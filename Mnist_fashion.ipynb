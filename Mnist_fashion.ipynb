{
  "nbformat": 4,
  "nbformat_minor": 0,
  "metadata": {
    "colab": {
      "name": "Mnist_fashion.ipynb",
      "provenance": []
    },
    "kernelspec": {
      "name": "python3",
      "display_name": "Python 3"
    }
  },
  "cells": [
    {
      "cell_type": "markdown",
      "metadata": {
        "id": "tMbrGiWffUhw",
        "colab_type": "text"
      },
      "source": [
        "## **Import Tensorflow**"
      ]
    },
    {
      "cell_type": "code",
      "metadata": {
        "id": "4LLZcBf5X5g9",
        "colab_type": "code",
        "colab": {}
      },
      "source": [
        "import tensorflow as tf"
      ],
      "execution_count": 0,
      "outputs": []
    },
    {
      "cell_type": "markdown",
      "metadata": {
        "id": "DBARh79Wfmq4",
        "colab_type": "text"
      },
      "source": [
        "## **Upgrade to the latest version**"
      ]
    },
    {
      "cell_type": "code",
      "metadata": {
        "id": "-aSXSMWaX82Z",
        "colab_type": "code",
        "colab": {
          "base_uri": "https://localhost:8080/",
          "height": 1000
        },
        "outputId": "31fb0460-7e2e-4f8e-8adb-3e2bb1d9619e"
      },
      "source": [
        "!pip install --upgrade tensorflow"
      ],
      "execution_count": 2,
      "outputs": [
        {
          "output_type": "stream",
          "text": [
            "Collecting tensorflow\n",
            "\u001b[?25l  Downloading https://files.pythonhosted.org/packages/85/d4/c0cd1057b331bc38b65478302114194bd8e1b9c2bbc06e300935c0e93d90/tensorflow-2.1.0-cp36-cp36m-manylinux2010_x86_64.whl (421.8MB)\n",
            "\u001b[K     |████████████████████████████████| 421.8MB 37kB/s \n",
            "\u001b[?25hRequirement already satisfied, skipping upgrade: keras-applications>=1.0.8 in /usr/local/lib/python3.6/dist-packages (from tensorflow) (1.0.8)\n",
            "Requirement already satisfied, skipping upgrade: numpy<2.0,>=1.16.0 in /usr/local/lib/python3.6/dist-packages (from tensorflow) (1.17.5)\n",
            "Requirement already satisfied, skipping upgrade: six>=1.12.0 in /usr/local/lib/python3.6/dist-packages (from tensorflow) (1.12.0)\n",
            "Requirement already satisfied, skipping upgrade: astor>=0.6.0 in /usr/local/lib/python3.6/dist-packages (from tensorflow) (0.8.1)\n",
            "Requirement already satisfied, skipping upgrade: wheel>=0.26; python_version >= \"3\" in /usr/local/lib/python3.6/dist-packages (from tensorflow) (0.34.2)\n",
            "Collecting tensorflow-estimator<2.2.0,>=2.1.0rc0\n",
            "\u001b[?25l  Downloading https://files.pythonhosted.org/packages/18/90/b77c328a1304437ab1310b463e533fa7689f4bfc41549593056d812fab8e/tensorflow_estimator-2.1.0-py2.py3-none-any.whl (448kB)\n",
            "\u001b[K     |████████████████████████████████| 450kB 53.7MB/s \n",
            "\u001b[?25hRequirement already satisfied, skipping upgrade: gast==0.2.2 in /usr/local/lib/python3.6/dist-packages (from tensorflow) (0.2.2)\n",
            "Collecting tensorboard<2.2.0,>=2.1.0\n",
            "\u001b[?25l  Downloading https://files.pythonhosted.org/packages/d9/41/bbf49b61370e4f4d245d4c6051dfb6db80cec672605c91b1652ac8cc3d38/tensorboard-2.1.1-py3-none-any.whl (3.8MB)\n",
            "\u001b[K     |████████████████████████████████| 3.9MB 43.5MB/s \n",
            "\u001b[?25hRequirement already satisfied, skipping upgrade: scipy==1.4.1; python_version >= \"3\" in /usr/local/lib/python3.6/dist-packages (from tensorflow) (1.4.1)\n",
            "Requirement already satisfied, skipping upgrade: grpcio>=1.8.6 in /usr/local/lib/python3.6/dist-packages (from tensorflow) (1.27.1)\n",
            "Requirement already satisfied, skipping upgrade: keras-preprocessing>=1.1.0 in /usr/local/lib/python3.6/dist-packages (from tensorflow) (1.1.0)\n",
            "Requirement already satisfied, skipping upgrade: termcolor>=1.1.0 in /usr/local/lib/python3.6/dist-packages (from tensorflow) (1.1.0)\n",
            "Requirement already satisfied, skipping upgrade: wrapt>=1.11.1 in /usr/local/lib/python3.6/dist-packages (from tensorflow) (1.11.2)\n",
            "Requirement already satisfied, skipping upgrade: google-pasta>=0.1.6 in /usr/local/lib/python3.6/dist-packages (from tensorflow) (0.1.8)\n",
            "Requirement already satisfied, skipping upgrade: protobuf>=3.8.0 in /usr/local/lib/python3.6/dist-packages (from tensorflow) (3.10.0)\n",
            "Requirement already satisfied, skipping upgrade: absl-py>=0.7.0 in /usr/local/lib/python3.6/dist-packages (from tensorflow) (0.9.0)\n",
            "Requirement already satisfied, skipping upgrade: opt-einsum>=2.3.2 in /usr/local/lib/python3.6/dist-packages (from tensorflow) (3.1.0)\n",
            "Requirement already satisfied, skipping upgrade: h5py in /usr/local/lib/python3.6/dist-packages (from keras-applications>=1.0.8->tensorflow) (2.8.0)\n",
            "Requirement already satisfied, skipping upgrade: markdown>=2.6.8 in /usr/local/lib/python3.6/dist-packages (from tensorboard<2.2.0,>=2.1.0->tensorflow) (3.2.1)\n",
            "Requirement already satisfied, skipping upgrade: requests<3,>=2.21.0 in /usr/local/lib/python3.6/dist-packages (from tensorboard<2.2.0,>=2.1.0->tensorflow) (2.21.0)\n",
            "Requirement already satisfied, skipping upgrade: setuptools>=41.0.0 in /usr/local/lib/python3.6/dist-packages (from tensorboard<2.2.0,>=2.1.0->tensorflow) (45.2.0)\n",
            "Requirement already satisfied, skipping upgrade: werkzeug>=0.11.15 in /usr/local/lib/python3.6/dist-packages (from tensorboard<2.2.0,>=2.1.0->tensorflow) (1.0.0)\n",
            "Requirement already satisfied, skipping upgrade: google-auth-oauthlib<0.5,>=0.4.1 in /usr/local/lib/python3.6/dist-packages (from tensorboard<2.2.0,>=2.1.0->tensorflow) (0.4.1)\n",
            "Requirement already satisfied, skipping upgrade: google-auth<2,>=1.6.3 in /usr/local/lib/python3.6/dist-packages (from tensorboard<2.2.0,>=2.1.0->tensorflow) (1.7.2)\n",
            "Requirement already satisfied, skipping upgrade: certifi>=2017.4.17 in /usr/local/lib/python3.6/dist-packages (from requests<3,>=2.21.0->tensorboard<2.2.0,>=2.1.0->tensorflow) (2019.11.28)\n",
            "Requirement already satisfied, skipping upgrade: urllib3<1.25,>=1.21.1 in /usr/local/lib/python3.6/dist-packages (from requests<3,>=2.21.0->tensorboard<2.2.0,>=2.1.0->tensorflow) (1.24.3)\n",
            "Requirement already satisfied, skipping upgrade: chardet<3.1.0,>=3.0.2 in /usr/local/lib/python3.6/dist-packages (from requests<3,>=2.21.0->tensorboard<2.2.0,>=2.1.0->tensorflow) (3.0.4)\n",
            "Requirement already satisfied, skipping upgrade: idna<2.9,>=2.5 in /usr/local/lib/python3.6/dist-packages (from requests<3,>=2.21.0->tensorboard<2.2.0,>=2.1.0->tensorflow) (2.8)\n",
            "Requirement already satisfied, skipping upgrade: requests-oauthlib>=0.7.0 in /usr/local/lib/python3.6/dist-packages (from google-auth-oauthlib<0.5,>=0.4.1->tensorboard<2.2.0,>=2.1.0->tensorflow) (1.3.0)\n",
            "Requirement already satisfied, skipping upgrade: cachetools<3.2,>=2.0.0 in /usr/local/lib/python3.6/dist-packages (from google-auth<2,>=1.6.3->tensorboard<2.2.0,>=2.1.0->tensorflow) (3.1.1)\n",
            "Requirement already satisfied, skipping upgrade: rsa<4.1,>=3.1.4 in /usr/local/lib/python3.6/dist-packages (from google-auth<2,>=1.6.3->tensorboard<2.2.0,>=2.1.0->tensorflow) (4.0)\n",
            "Requirement already satisfied, skipping upgrade: pyasn1-modules>=0.2.1 in /usr/local/lib/python3.6/dist-packages (from google-auth<2,>=1.6.3->tensorboard<2.2.0,>=2.1.0->tensorflow) (0.2.8)\n",
            "Requirement already satisfied, skipping upgrade: oauthlib>=3.0.0 in /usr/local/lib/python3.6/dist-packages (from requests-oauthlib>=0.7.0->google-auth-oauthlib<0.5,>=0.4.1->tensorboard<2.2.0,>=2.1.0->tensorflow) (3.1.0)\n",
            "Requirement already satisfied, skipping upgrade: pyasn1>=0.1.3 in /usr/local/lib/python3.6/dist-packages (from rsa<4.1,>=3.1.4->google-auth<2,>=1.6.3->tensorboard<2.2.0,>=2.1.0->tensorflow) (0.4.8)\n",
            "Installing collected packages: tensorflow-estimator, tensorboard, tensorflow\n",
            "  Found existing installation: tensorflow-estimator 1.15.1\n",
            "    Uninstalling tensorflow-estimator-1.15.1:\n",
            "      Successfully uninstalled tensorflow-estimator-1.15.1\n",
            "  Found existing installation: tensorboard 1.15.0\n",
            "    Uninstalling tensorboard-1.15.0:\n",
            "      Successfully uninstalled tensorboard-1.15.0\n",
            "  Found existing installation: tensorflow 1.15.0\n",
            "    Uninstalling tensorflow-1.15.0:\n",
            "      Successfully uninstalled tensorflow-1.15.0\n",
            "Successfully installed tensorboard-2.1.1 tensorflow-2.1.0 tensorflow-estimator-2.1.0\n"
          ],
          "name": "stdout"
        },
        {
          "output_type": "display_data",
          "data": {
            "application/vnd.colab-display-data+json": {
              "pip_warning": {
                "packages": [
                  "tensorboard",
                  "tensorflow",
                  "tensorflow_core",
                  "tensorflow_estimator"
                ]
              }
            }
          },
          "metadata": {
            "tags": []
          }
        }
      ]
    },
    {
      "cell_type": "code",
      "metadata": {
        "id": "ygRh-hHbYGrJ",
        "colab_type": "code",
        "colab": {
          "base_uri": "https://localhost:8080/",
          "height": 34
        },
        "outputId": "9eba1abd-4670-40de-acb6-7ff96176a5bf"
      },
      "source": [
        "print(tf.__version__)"
      ],
      "execution_count": 30,
      "outputs": [
        {
          "output_type": "stream",
          "text": [
            "2.1.0\n"
          ],
          "name": "stdout"
        }
      ]
    },
    {
      "cell_type": "markdown",
      "metadata": {
        "id": "aGy0NiEPfx-k",
        "colab_type": "text"
      },
      "source": [
        "## **Import MNIST_FASHION Dataset**"
      ]
    },
    {
      "cell_type": "code",
      "metadata": {
        "id": "hgsItVHjYMXn",
        "colab_type": "code",
        "colab": {}
      },
      "source": [
        "mnist=tf.keras.datasets.fashion_mnist\n",
        "(training_images,training_labels) , (test_images,test_labels)=mnist.load_data()"
      ],
      "execution_count": 0,
      "outputs": []
    },
    {
      "cell_type": "code",
      "metadata": {
        "id": "opADOel3ZD8j",
        "colab_type": "code",
        "colab": {
          "base_uri": "https://localhost:8080/",
          "height": 282
        },
        "outputId": "c0ca3101-93a6-41a8-eedd-9f2fc4263e47"
      },
      "source": [
        "import matplotlib.pyplot as plt\n",
        "plt.imshow(training_images[0])"
      ],
      "execution_count": 32,
      "outputs": [
        {
          "output_type": "execute_result",
          "data": {
            "text/plain": [
              "<matplotlib.image.AxesImage at 0x7fc0e925e160>"
            ]
          },
          "metadata": {
            "tags": []
          },
          "execution_count": 32
        },
        {
          "output_type": "display_data",
          "data": {
            "image/png": "[encoded data removed]",
            "text/plain": [
              "<Figure size 432x288 with 1 Axes>"
            ]
          },
          "metadata": {
            "tags": []
          }
        }
      ]
    },
    {
      "cell_type": "markdown",
      "metadata": {
        "id": "sFXAdcWZgW9y",
        "colab_type": "text"
      },
      "source": [
        "## **Normalization of Data**"
      ]
    },
    {
      "cell_type": "code",
      "metadata": {
        "id": "B3wiGgYFZPbW",
        "colab_type": "code",
        "colab": {}
      },
      "source": [
        "training_images=training_images/255.0\n",
        "test_images=test_images/255.0"
      ],
      "execution_count": 0,
      "outputs": []
    },
    {
      "cell_type": "markdown",
      "metadata": {
        "id": "TvqtazEMgoJG",
        "colab_type": "text"
      },
      "source": [
        "## **Network Architechture**"
      ]
    },
    {
      "cell_type": "code",
      "metadata": {
        "id": "qBl4eobvbCSy",
        "colab_type": "code",
        "colab": {}
      },
      "source": [
        "network=tf.keras.models.Sequential([tf.keras.layers.Flatten(),\n",
        "                                    tf.keras.layers.Dense(512, activation=tf.nn.relu),\n",
        "                                    tf.keras.layers.Dense(190, activation=tf.nn.relu),\n",
        "                                    tf.keras.layers.Dense(10, activation=tf.nn.softmax)])"
      ],
      "execution_count": 0,
      "outputs": []
    },
    {
      "cell_type": "markdown",
      "metadata": {
        "id": "ag3pEnagg1D1",
        "colab_type": "text"
      },
      "source": [
        "## **Compilation Steps**"
      ]
    },
    {
      "cell_type": "code",
      "metadata": {
        "id": "oe0Yk069cOjd",
        "colab_type": "code",
        "colab": {}
      },
      "source": [
        "network.compile(optimizer=tf.keras.optimizers.Adam(),\n",
        "                loss='sparse_categorical_crossentropy',\n",
        "                metrics=['accuracy'])"
      ],
      "execution_count": 0,
      "outputs": []
    },
    {
      "cell_type": "markdown",
      "metadata": {
        "id": "x8_MRJNQg7td",
        "colab_type": "text"
      },
      "source": [
        "## **Training the module**"
      ]
    },
    {
      "cell_type": "code",
      "metadata": {
        "id": "gONu_hslc2LV",
        "colab_type": "code",
        "colab": {
          "base_uri": "https://localhost:8080/",
          "height": 901
        },
        "outputId": "cc94300b-1008-44b2-c9ce-3d43735f4bbf"
      },
      "source": [
        "network.fit(training_images, training_labels, epochs=25 , batch_size=128)"
      ],
      "execution_count": 36,
      "outputs": [
        {
          "output_type": "stream",
          "text": [
            "Train on 60000 samples\n",
            "Epoch 1/25\n",
            "60000/60000 [==============================] - 5s 82us/sample - loss: 0.4908 - accuracy: 0.8257\n",
            "Epoch 2/25\n",
            "60000/60000 [==============================] - 5s 78us/sample - loss: 0.3576 - accuracy: 0.8690\n",
            "Epoch 3/25\n",
            "60000/60000 [==============================] - 5s 79us/sample - loss: 0.3182 - accuracy: 0.8833\n",
            "Epoch 4/25\n",
            "60000/60000 [==============================] - 5s 79us/sample - loss: 0.2972 - accuracy: 0.8910\n",
            "Epoch 5/25\n",
            "60000/60000 [==============================] - 5s 78us/sample - loss: 0.2764 - accuracy: 0.8969\n",
            "Epoch 6/25\n",
            "60000/60000 [==============================] - 5s 78us/sample - loss: 0.2623 - accuracy: 0.9013\n",
            "Epoch 7/25\n",
            "60000/60000 [==============================] - 5s 78us/sample - loss: 0.2533 - accuracy: 0.9038\n",
            "Epoch 8/25\n",
            "60000/60000 [==============================] - 5s 79us/sample - loss: 0.2362 - accuracy: 0.9106\n",
            "Epoch 9/25\n",
            "60000/60000 [==============================] - 5s 79us/sample - loss: 0.2257 - accuracy: 0.9151\n",
            "Epoch 10/25\n",
            "60000/60000 [==============================] - 5s 80us/sample - loss: 0.2174 - accuracy: 0.9168\n",
            "Epoch 11/25\n",
            "60000/60000 [==============================] - 5s 79us/sample - loss: 0.2084 - accuracy: 0.9202\n",
            "Epoch 12/25\n",
            "60000/60000 [==============================] - 5s 79us/sample - loss: 0.2001 - accuracy: 0.9246\n",
            "Epoch 13/25\n",
            "60000/60000 [==============================] - 5s 79us/sample - loss: 0.1943 - accuracy: 0.9276\n",
            "Epoch 14/25\n",
            "60000/60000 [==============================] - 5s 79us/sample - loss: 0.1859 - accuracy: 0.9299\n",
            "Epoch 15/25\n",
            "60000/60000 [==============================] - 5s 79us/sample - loss: 0.1799 - accuracy: 0.9326\n",
            "Epoch 16/25\n",
            "60000/60000 [==============================] - 5s 79us/sample - loss: 0.1725 - accuracy: 0.9337\n",
            "Epoch 17/25\n",
            "60000/60000 [==============================] - 5s 79us/sample - loss: 0.1639 - accuracy: 0.9379\n",
            "Epoch 18/25\n",
            "60000/60000 [==============================] - 5s 78us/sample - loss: 0.1583 - accuracy: 0.9396\n",
            "Epoch 19/25\n",
            "60000/60000 [==============================] - 5s 79us/sample - loss: 0.1518 - accuracy: 0.9418\n",
            "Epoch 20/25\n",
            "60000/60000 [==============================] - 5s 77us/sample - loss: 0.1513 - accuracy: 0.9432\n",
            "Epoch 21/25\n",
            "60000/60000 [==============================] - 5s 77us/sample - loss: 0.1405 - accuracy: 0.9470\n",
            "Epoch 22/25\n",
            "60000/60000 [==============================] - 5s 78us/sample - loss: 0.1368 - accuracy: 0.9477\n",
            "Epoch 23/25\n",
            "60000/60000 [==============================] - 5s 78us/sample - loss: 0.1329 - accuracy: 0.9489\n",
            "Epoch 24/25\n",
            "60000/60000 [==============================] - 5s 80us/sample - loss: 0.1275 - accuracy: 0.9506\n",
            "Epoch 25/25\n",
            "60000/60000 [==============================] - 5s 81us/sample - loss: 0.1211 - accuracy: 0.9527\n"
          ],
          "name": "stdout"
        },
        {
          "output_type": "execute_result",
          "data": {
            "text/plain": [
              "<tensorflow.python.keras.callbacks.History at 0x7fc0ec0485c0>"
            ]
          },
          "metadata": {
            "tags": []
          },
          "execution_count": 36
        }
      ]
    },
    {
      "cell_type": "markdown",
      "metadata": {
        "id": "m1ehzdS9hDXT",
        "colab_type": "text"
      },
      "source": [
        "## **Checking Accuracy over unseen Data**"
      ]
    },
    {
      "cell_type": "code",
      "metadata": {
        "id": "m8N3VrHudMlZ",
        "colab_type": "code",
        "colab": {
          "base_uri": "https://localhost:8080/",
          "height": 51
        },
        "outputId": "a7af1e3e-5a5c-4e29-81ff-e35f263a012f"
      },
      "source": [
        "network.evaluate(test_images, test_labels)"
      ],
      "execution_count": 37,
      "outputs": [
        {
          "output_type": "stream",
          "text": [
            "10000/10000 [==============================] - 1s 80us/sample - loss: 0.3771 - accuracy: 0.8944\n"
          ],
          "name": "stdout"
        },
        {
          "output_type": "execute_result",
          "data": {
            "text/plain": [
              "[0.3771271596431732, 0.8944]"
            ]
          },
          "metadata": {
            "tags": []
          },
          "execution_count": 37
        }
      ]
    },
    {
      "cell_type": "code",
      "metadata": {
        "id": "cDB6FzqXd0OS",
        "colab_type": "code",
        "colab": {}
      },
      "source": [
        ""
      ],
      "execution_count": 0,
      "outputs": []
    }
  ]
}